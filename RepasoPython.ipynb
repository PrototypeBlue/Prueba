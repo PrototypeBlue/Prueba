{
  "nbformat": 4,
  "nbformat_minor": 0,
  "metadata": {
    "colab": {
      "name": "RepasoPython.ipynb",
      "provenance": [],
      "collapsed_sections": [],
      "toc_visible": true,
      "authorship_tag": "ABX9TyPkilPKY2UFJsGgpGzdzUca",
      "include_colab_link": true
    },
    "kernelspec": {
      "name": "python3",
      "display_name": "Python 3"
    }
  },
  "cells": [
    {
      "cell_type": "markdown",
      "metadata": {
        "id": "view-in-github",
        "colab_type": "text"
      },
      "source": [
        "<a href=\"https://colab.research.google.com/github/PrototypeBlue/Prueba/blob/main/RepasoPython.ipynb\" target=\"_parent\"><img src=\"https://colab.research.google.com/assets/colab-badge.svg\" alt=\"Open In Colab\"/></a>"
      ]
    },
    {
      "cell_type": "code",
      "metadata": {
        "id": "m7mdtlQXszf3",
        "outputId": "22eaaa53-51e1-4a71-b57f-9b80de4e3710",
        "colab": {
          "base_uri": "https://localhost:8080/"
        }
      },
      "source": [
        "print (\"Hola mundo\")"
      ],
      "execution_count": 2,
      "outputs": [
        {
          "output_type": "stream",
          "text": [
            "Hola mundo\n"
          ],
          "name": "stdout"
        }
      ]
    },
    {
      "cell_type": "code",
      "metadata": {
        "id": "EudoQB5utPjg"
      },
      "source": [
        "var=\"Hello\" \n",
        "mvar1 = \"HCIAS\"\n",
        "_mvar= 31\n",
        "mivar = True"
      ],
      "execution_count": 7,
      "outputs": []
    },
    {
      "cell_type": "code",
      "metadata": {
        "id": "ReFGnj0VtsTi",
        "outputId": "1a6984e5-553e-418d-fcb4-a2777f22a50c",
        "colab": {
          "base_uri": "https://localhost:8080/"
        }
      },
      "source": [
        "print(type(var)); print(mvar1)"
      ],
      "execution_count": 9,
      "outputs": [
        {
          "output_type": "stream",
          "text": [
            "<class 'str'>\n",
            "HCIAS\n"
          ],
          "name": "stdout"
        }
      ]
    },
    {
      "cell_type": "code",
      "metadata": {
        "id": "Tbzd0_AKtyut",
        "outputId": "6c4c7693-a6f5-4663-8818-5ec9fb1d2b5f",
        "colab": {
          "base_uri": "https://localhost:8080/"
        }
      },
      "source": [
        "print(4<2 and True)"
      ],
      "execution_count": 10,
      "outputs": [
        {
          "output_type": "stream",
          "text": [
            "False\n"
          ],
          "name": "stdout"
        }
      ]
    },
    {
      "cell_type": "code",
      "metadata": {
        "id": "6fAJUAbjuCwA",
        "outputId": "56b488b7-9a14-4727-8fe4-0dc70f5f25a2",
        "colab": {
          "base_uri": "https://localhost:8080/"
        }
      },
      "source": [
        "var0 = \"example\"\n",
        "listaecam2 = [var,var0]\n",
        "print (listaecam2)"
      ],
      "execution_count": 13,
      "outputs": [
        {
          "output_type": "stream",
          "text": [
            "['Hello', 'example']\n"
          ],
          "name": "stdout"
        }
      ]
    },
    {
      "cell_type": "code",
      "metadata": {
        "id": "m3_tQifEuSSW",
        "outputId": "b1e7ed69-d8a9-409f-c661-7098cb79349a",
        "colab": {
          "base_uri": "https://localhost:8080/"
        }
      },
      "source": [
        "listaexam3 = [\"a\",\"b\",\"c\",[1,2]]\n",
        "print(listaexam3[0])\n",
        "print(listaexam3[-1] [0])\n",
        "print(listaexam3[0:])\n",
        "print(listaexam3[-2])\n",
        "print(listaexam3[1:-2])"
      ],
      "execution_count": 20,
      "outputs": [
        {
          "output_type": "stream",
          "text": [
            "a\n",
            "1\n",
            "['a', 'b', 'c', [1, 2]]\n",
            "c\n",
            "['b']\n"
          ],
          "name": "stdout"
        }
      ]
    },
    {
      "cell_type": "code",
      "metadata": {
        "id": "9HGtYEdmu7dG",
        "outputId": "0c2f90da-5b25-4fa0-dc31-15a7c2df1e69",
        "colab": {
          "base_uri": "https://localhost:8080/"
        }
      },
      "source": [
        "listaexam3[0]=0\n",
        "print(listaexam3)"
      ],
      "execution_count": 21,
      "outputs": [
        {
          "output_type": "stream",
          "text": [
            "[0, 'b', 'c', [1, 2]]\n"
          ],
          "name": "stdout"
        }
      ]
    },
    {
      "cell_type": "code",
      "metadata": {
        "id": "SmBN3WWJvCHH",
        "outputId": "75216d72-7023-4055-c3ad-a2417c11199e",
        "colab": {
          "base_uri": "https://localhost:8080/"
        }
      },
      "source": [
        "listaexam3.append(\"NE\")\n",
        "print(listaexam3)"
      ],
      "execution_count": 22,
      "outputs": [
        {
          "output_type": "stream",
          "text": [
            "[0, 'b', 'c', [1, 2], 'NE']\n"
          ],
          "name": "stdout"
        }
      ]
    },
    {
      "cell_type": "code",
      "metadata": {
        "id": "eBbltaGIvLDt",
        "outputId": "9c7963cf-d1ff-4a54-eb49-96a6bc044ea4",
        "colab": {
          "base_uri": "https://localhost:8080/"
        }
      },
      "source": [
        "listaexam3.insert(0,\"INI\")\n",
        "print (listaexam3)"
      ],
      "execution_count": 24,
      "outputs": [
        {
          "output_type": "stream",
          "text": [
            "['INI', 'INI', 0, 'b', 'c', [1, 2], 'NE']\n"
          ],
          "name": "stdout"
        }
      ]
    },
    {
      "cell_type": "code",
      "metadata": {
        "id": "-Mr180lkvUAz",
        "outputId": "ed56df78-c9da-48fa-9e8f-7087a67e59a5",
        "colab": {
          "base_uri": "https://localhost:8080/"
        }
      },
      "source": [
        "listaexam3.remove(\"INI\")\n",
        "print(listaexam3)"
      ],
      "execution_count": 27,
      "outputs": [
        {
          "output_type": "stream",
          "text": [
            "['INI', 'b', 'c', [1, 2], 'NE']\n"
          ],
          "name": "stdout"
        }
      ]
    },
    {
      "cell_type": "code",
      "metadata": {
        "id": "F_-15S8pvdnA"
      },
      "source": [
        "del(listaexam3[-1])"
      ],
      "execution_count": 28,
      "outputs": []
    },
    {
      "cell_type": "code",
      "metadata": {
        "id": "RhWY3DUbvgrL",
        "outputId": "225139c8-97d4-4f77-e433-b939fa9f5275",
        "colab": {
          "base_uri": "https://localhost:8080/"
        }
      },
      "source": [
        "print(listaexam3)"
      ],
      "execution_count": 29,
      "outputs": [
        {
          "output_type": "stream",
          "text": [
            "['INI', 'b', 'c', [1, 2]]\n"
          ],
          "name": "stdout"
        }
      ]
    },
    {
      "cell_type": "code",
      "metadata": {
        "id": "9cTipHvavkIC",
        "outputId": "f6272e9e-0a10-46e2-b6bc-69ea3fbcdb51",
        "colab": {
          "base_uri": "https://localhost:8080/"
        }
      },
      "source": [
        "x = [1,2,3]\n",
        "y = x\n",
        "y[1] = \"b\"\n",
        "print(x)\n",
        "print(y)"
      ],
      "execution_count": 30,
      "outputs": [
        {
          "output_type": "stream",
          "text": [
            "[1, 'b', 3]\n",
            "[1, 'b', 3]\n"
          ],
          "name": "stdout"
        }
      ]
    },
    {
      "cell_type": "code",
      "metadata": {
        "id": "La_M_7tXvw_0",
        "outputId": "93719acb-a8e9-4881-c8b1-3212b1c3d386",
        "colab": {
          "base_uri": "https://localhost:8080/"
        }
      },
      "source": [
        "y = list(x)\n",
        "y[1]=\"X\"\n",
        "print(x)\n",
        "print(y)"
      ],
      "execution_count": 31,
      "outputs": [
        {
          "output_type": "stream",
          "text": [
            "[1, 'b', 3]\n",
            "[1, 'X', 3]\n"
          ],
          "name": "stdout"
        }
      ]
    },
    {
      "cell_type": "code",
      "metadata": {
        "id": "bUvhNNfBwBAd",
        "outputId": "517bd827-9ee2-41da-f180-62b2894cc0f2",
        "colab": {
          "base_uri": "https://localhost:8080/"
        }
      },
      "source": [
        "for ele in listaexam3:\n",
        "  print (ele)"
      ],
      "execution_count": 34,
      "outputs": [
        {
          "output_type": "stream",
          "text": [
            "INI\n",
            "b\n",
            "c\n",
            "[1, 2]\n"
          ],
          "name": "stdout"
        }
      ]
    },
    {
      "cell_type": "code",
      "metadata": {
        "id": "tYwdf9SDwJfR"
      },
      "source": [
        "def test_function ():\n",
        "  print(\"Soy yo\")"
      ],
      "execution_count": 35,
      "outputs": []
    },
    {
      "cell_type": "code",
      "metadata": {
        "id": "YpsCmujBwQlD",
        "outputId": "9c79d02c-b1f7-4e98-d2e2-689729fcd00f",
        "colab": {
          "base_uri": "https://localhost:8080/"
        }
      },
      "source": [
        "test_function()"
      ],
      "execution_count": 36,
      "outputs": [
        {
          "output_type": "stream",
          "text": [
            "Soy yo\n"
          ],
          "name": "stdout"
        }
      ]
    },
    {
      "cell_type": "code",
      "metadata": {
        "id": "bRU1QqCAwSri"
      },
      "source": [
        "def saludos(nombre):\n",
        "  print (\"Hola \" + nombre)"
      ],
      "execution_count": 37,
      "outputs": []
    },
    {
      "cell_type": "code",
      "metadata": {
        "id": "TG30ig_Cwa6Z",
        "outputId": "9de19267-5ba2-4628-9830-40062afcb6d3",
        "colab": {
          "base_uri": "https://localhost:8080/"
        }
      },
      "source": [
        "saludos(\"Harry\")"
      ],
      "execution_count": 38,
      "outputs": [
        {
          "output_type": "stream",
          "text": [
            "HolaHarry\n"
          ],
          "name": "stdout"
        }
      ]
    },
    {
      "cell_type": "code",
      "metadata": {
        "id": "DOZwYXS3weRB"
      },
      "source": [
        "def fun_mult(x):\n",
        "  return x*5"
      ],
      "execution_count": 39,
      "outputs": []
    },
    {
      "cell_type": "code",
      "metadata": {
        "id": "6vonp8gzwiyF",
        "outputId": "a504baac-ad24-4691-d84b-265bc096d7e9",
        "colab": {
          "base_uri": "https://localhost:8080/"
        }
      },
      "source": [
        "fun_mult(5)"
      ],
      "execution_count": 40,
      "outputs": [
        {
          "output_type": "execute_result",
          "data": {
            "text/plain": [
              "25"
            ]
          },
          "metadata": {
            "tags": []
          },
          "execution_count": 40
        }
      ]
    },
    {
      "cell_type": "code",
      "metadata": {
        "id": "B0pi9dd-wkZO"
      },
      "source": [
        "y = lambda a,b,c : a+b+c"
      ],
      "execution_count": 41,
      "outputs": []
    },
    {
      "cell_type": "code",
      "metadata": {
        "id": "Xn2EcUCowqYR",
        "outputId": "e7172fcb-838a-4766-d37e-63954730c265",
        "colab": {
          "base_uri": "https://localhost:8080/"
        }
      },
      "source": [
        "y(1,2,3)"
      ],
      "execution_count": 42,
      "outputs": [
        {
          "output_type": "execute_result",
          "data": {
            "text/plain": [
              "6"
            ]
          },
          "metadata": {
            "tags": []
          },
          "execution_count": 42
        }
      ]
    },
    {
      "cell_type": "code",
      "metadata": {
        "id": "fR610qxZwsMz",
        "outputId": "4ef40c9d-7501-4f51-ee82-bd6da04b997c",
        "colab": {
          "base_uri": "https://localhost:8080/"
        }
      },
      "source": [
        "listaexam4=[1,2,3,4,5]\n",
        "print(max(listaexam4))\n",
        "print (sorted(listaexam4))\n",
        "print (sorted(listaexam4,reverse=True))"
      ],
      "execution_count": 44,
      "outputs": [
        {
          "output_type": "stream",
          "text": [
            "5\n",
            "[1, 2, 3, 4, 5]\n",
            "[5, 4, 3, 2, 1]\n"
          ],
          "name": "stdout"
        }
      ]
    },
    {
      "cell_type": "code",
      "metadata": {
        "id": "7Uyt0cTVw7-t",
        "outputId": "f7f9fd37-a5d3-40b2-c831-0590c21edd18",
        "colab": {
          "base_uri": "https://localhost:8080/"
        }
      },
      "source": [
        "help (max)"
      ],
      "execution_count": 45,
      "outputs": [
        {
          "output_type": "stream",
          "text": [
            "Help on built-in function max in module builtins:\n",
            "\n",
            "max(...)\n",
            "    max(iterable, *[, default=obj, key=func]) -> value\n",
            "    max(arg1, arg2, *args, *[, key=func]) -> value\n",
            "    \n",
            "    With a single iterable argument, return its biggest item. The\n",
            "    default keyword-only argument specifies an object to return if\n",
            "    the provided iterable is empty.\n",
            "    With two or more arguments, return the largest argument.\n",
            "\n"
          ],
          "name": "stdout"
        }
      ]
    },
    {
      "cell_type": "code",
      "metadata": {
        "id": "xgxZbQuVw_qo",
        "outputId": "f5a22221-a698-48dd-e4ce-a51bcf2a5918",
        "colab": {
          "base_uri": "https://localhost:8080/"
        }
      },
      "source": [
        "num = 5.941\n",
        "round(num,2)"
      ],
      "execution_count": 47,
      "outputs": [
        {
          "output_type": "execute_result",
          "data": {
            "text/plain": [
              "5.94"
            ]
          },
          "metadata": {
            "tags": []
          },
          "execution_count": 47
        }
      ]
    },
    {
      "cell_type": "code",
      "metadata": {
        "id": "hNrpby3ExB6U",
        "outputId": "7b489909-3301-4e9d-9ce1-54cad1b682a4",
        "colab": {
          "base_uri": "https://localhost:8080/"
        }
      },
      "source": [
        "listaexam5 = [\"hello\",\"Deja el show\", \"Subete la\",\"Minifalda hasta\",\"la espalda\"]\n",
        "print(listaexam5.index(\"hello\"))"
      ],
      "execution_count": 51,
      "outputs": [
        {
          "output_type": "stream",
          "text": [
            "0\n"
          ],
          "name": "stdout"
        }
      ]
    },
    {
      "cell_type": "code",
      "metadata": {
        "id": "Ei2zvWyDxfj3",
        "outputId": "61751798-137b-4ee3-b373-9045f15b83d5",
        "colab": {
          "base_uri": "https://localhost:8080/"
        }
      },
      "source": [
        "import numpy as np\n",
        "numpy.array([1,2,3])"
      ],
      "execution_count": 53,
      "outputs": [
        {
          "output_type": "execute_result",
          "data": {
            "text/plain": [
              "array([1, 2, 3])"
            ]
          },
          "metadata": {
            "tags": []
          },
          "execution_count": 53
        }
      ]
    },
    {
      "cell_type": "code",
      "metadata": {
        "id": "cpqhaq2PxmLf",
        "outputId": "e782eade-f05b-4e33-f832-855c10aa42f5",
        "colab": {
          "base_uri": "https://localhost:8080/"
        }
      },
      "source": [
        "np.array([1,2,3,4,5,6])"
      ],
      "execution_count": 54,
      "outputs": [
        {
          "output_type": "execute_result",
          "data": {
            "text/plain": [
              "array([1, 2, 3, 4, 5, 6])"
            ]
          },
          "metadata": {
            "tags": []
          },
          "execution_count": 54
        }
      ]
    },
    {
      "cell_type": "code",
      "metadata": {
        "id": "q7KqytxexpuU",
        "outputId": "ff8d9918-37fa-453b-a0cc-7849112c5d39",
        "colab": {
          "base_uri": "https://localhost:8080/"
        }
      },
      "source": [
        "from numpy import array\n",
        "array([12,3,45,6])"
      ],
      "execution_count": 55,
      "outputs": [
        {
          "output_type": "execute_result",
          "data": {
            "text/plain": [
              "array([12,  3, 45,  6])"
            ]
          },
          "metadata": {
            "tags": []
          },
          "execution_count": 55
        }
      ]
    },
    {
      "cell_type": "code",
      "metadata": {
        "id": "Dpa-7w8qx5ZI",
        "outputId": "addc98d7-1696-4565-9e57-372cb646b7a7",
        "colab": {
          "base_uri": "https://localhost:8080/"
        }
      },
      "source": [
        "import numpy as np\n",
        "width = [66,67,5]\n",
        "high= [1.95,1,1.5]\n",
        "print(width)\n",
        "print(high)\n",
        "np_width=np.array(width)\n",
        "np_high=np.array(high)\n",
        "imc_np = np_width/np_high**2\n",
        "print (imc_np)\n",
        "print (imc_np > 20)\n",
        "print (imc_np[imc_np>20])"
      ],
      "execution_count": 63,
      "outputs": [
        {
          "output_type": "stream",
          "text": [
            "[66, 67, 5]\n",
            "[1.95, 1, 1.5]\n",
            "[17.35700197 67.          2.22222222]\n",
            "[False  True False]\n",
            "[67.]\n"
          ],
          "name": "stdout"
        }
      ]
    },
    {
      "cell_type": "code",
      "metadata": {
        "id": "u5WVHaIhyxZv",
        "outputId": "9d7ee9fa-453b-41f9-99ac-8f7ba73415e3",
        "colab": {
          "base_uri": "https://localhost:8080/"
        }
      },
      "source": [
        "width=[66,67.5]\n",
        "np_2=np.array([[66,67,5],[1,1,1]])\n",
        "print (np_2)\n",
        "print (np_2[0,0])"
      ],
      "execution_count": 70,
      "outputs": [
        {
          "output_type": "stream",
          "text": [
            "[[66 67  5]\n",
            " [ 1  1  1]]\n",
            "66\n"
          ],
          "name": "stdout"
        }
      ]
    },
    {
      "cell_type": "code",
      "metadata": {
        "id": "N6EdmYCFyJnQ",
        "outputId": "8800bb77-2c76-44e6-83fc-8dd426797989",
        "colab": {
          "base_uri": "https://localhost:8080/"
        }
      },
      "source": [
        "prom = np.mean(np_2[:,0])\n",
        "print(prom)"
      ],
      "execution_count": 71,
      "outputs": [
        {
          "output_type": "stream",
          "text": [
            "33.5\n"
          ],
          "name": "stdout"
        }
      ]
    },
    {
      "cell_type": "code",
      "metadata": {
        "id": "atDRi6QwzZq6",
        "outputId": "c2eea9b8-5c0d-48d0-88cd-e85697bbaab5",
        "colab": {
          "base_uri": "https://localhost:8080/",
          "height": 279
        }
      },
      "source": [
        "import matplotlib.pyplot as plt\n",
        "year=[1950,1970,1990,2010]\n",
        "pop=[2.5910,3.451,5.262,6.942]\n",
        "plt.scatter(year,pop)\n",
        "plt.xlabel(\"year\")\n",
        "plt.ylabel(\"población\")\n",
        "plt.show()"
      ],
      "execution_count": 76,
      "outputs": [
        {
          "output_type": "display_data",
          "data": {
            "image/png": "[encoded data removed]",
            "text/plain": [
              "<Figure size 432x288 with 1 Axes>"
            ]
          },
          "metadata": {
            "tags": [],
            "needs_background": "light"
          }
        }
      ]
    },
    {
      "cell_type": "code",
      "metadata": {
        "id": "jx38g3l5z8AA",
        "outputId": "93ae0e71-090a-4efa-8deb-2c949304cbc7",
        "colab": {
          "base_uri": "https://localhost:8080/",
          "height": 287
        }
      },
      "source": [
        "labels=[\"A\",\"B\",\"C\"]\n",
        "values=[1,2,3]\n",
        "plt.figure(figsize=(10,3),dpi=(100))\n",
        "bars=plt.bar(labels,values)\n",
        "patterns = [\"/\",\"x\",\"*\"]\n",
        "for bar in bars:\n",
        "  bar.set_hatch(patterns.pop(0))\n",
        "plt.savefig(\"grafico.png\",dpi=(300))"
      ],
      "execution_count": 82,
      "outputs": [
        {
          "output_type": "display_data",
          "data": {
            "image/png": "[encoded data removed]",
            "text/plain": [
              "<Figure size 1000x300 with 1 Axes>"
            ]
          },
          "metadata": {
            "tags": [],
            "needs_background": "light"
          }
        }
      ]
    },
    {
      "cell_type": "code",
      "metadata": {
        "id": "CrkuryI50sEa",
        "outputId": "98121acb-2d2f-4c74-eaef-7d75a85eca24",
        "colab": {
          "base_uri": "https://localhost:8080/"
        }
      },
      "source": [
        "world = {\n",
        "    \"Colombia\":15.9,\n",
        "    \"Argentina\":21.09,\n",
        "    \"Chile\":25\n",
        "}\n",
        "print(world)\n",
        "print(world[\"Colombia\"])\n",
        "world[\"Brasil\"] = 10\n",
        "print(world)"
      ],
      "execution_count": 84,
      "outputs": [
        {
          "output_type": "stream",
          "text": [
            "{'Colombia': 15.9, 'Argentina': 21.09, 'Chile': 25}\n",
            "15.9\n",
            "{'Colombia': 15.9, 'Argentina': 21.09, 'Chile': 25, 'Brasil': 10}\n"
          ],
          "name": "stdout"
        }
      ]
    },
    {
      "cell_type": "code",
      "metadata": {
        "id": "3Ob66osF1MDl",
        "outputId": "41920956-8099-4e37-de4e-fd9f39414f71",
        "colab": {
          "base_uri": "https://localhost:8080/"
        }
      },
      "source": [
        "dict_world={\n",
        "    \"Paises\":[\"Brasil\",\"México\",\"Argentina\"],\n",
        "    \"Capitales\":[\"Brasilia\",\"CDMX\",\"Buenos Aires\"],\n",
        "    \"Población\":[14.0,11.9,21.09]\n",
        "}\n",
        "\n",
        "for x in dict_world.values():\n",
        "  print(x)"
      ],
      "execution_count": 88,
      "outputs": [
        {
          "output_type": "stream",
          "text": [
            "['Brasil', 'México', 'Argentina']\n",
            "['Brasilia', 'CDMX', 'Buenos Aires']\n",
            "[14.0, 11.9, 21.09]\n"
          ],
          "name": "stdout"
        }
      ]
    },
    {
      "cell_type": "code",
      "metadata": {
        "id": "1yXnrqv-10uE",
        "outputId": "ba0c5af6-f584-4f74-d546-90ed50f54777",
        "colab": {
          "base_uri": "https://localhost:8080/"
        }
      },
      "source": [
        "import pandas as pd\n",
        "world_df = pd.DataFrame(dict_world)\n",
        "print(world_df)"
      ],
      "execution_count": 89,
      "outputs": [
        {
          "output_type": "stream",
          "text": [
            "      Paises     Capitales  Población\n",
            "0     Brasil      Brasilia      14.00\n",
            "1     México          CDMX      11.90\n",
            "2  Argentina  Buenos Aires      21.09\n"
          ],
          "name": "stdout"
        }
      ]
    },
    {
      "cell_type": "code",
      "metadata": {
        "id": "Ji2trhM81-GG",
        "outputId": "f5ed38ce-1c57-4e61-ef39-bb82d3f499cc",
        "colab": {
          "base_uri": "https://localhost:8080/"
        }
      },
      "source": [
        "world_df.index = [\"BR\",\"MX\",\"AR\"]\n",
        "print(world_df)"
      ],
      "execution_count": 91,
      "outputs": [
        {
          "output_type": "stream",
          "text": [
            "       Paises     Capitales  Población\n",
            "BR     Brasil      Brasilia      14.00\n",
            "MX     México          CDMX      11.90\n",
            "AR  Argentina  Buenos Aires      21.09\n"
          ],
          "name": "stdout"
        }
      ]
    },
    {
      "cell_type": "code",
      "metadata": {
        "id": "GQLsgVzo2O9-",
        "outputId": "b851acd3-8767-4b26-bc71-298ab0cfca6e",
        "colab": {
          "base_uri": "https://localhost:8080/"
        }
      },
      "source": [
        "print(world_df[\"Capitales\"])"
      ],
      "execution_count": 93,
      "outputs": [
        {
          "output_type": "stream",
          "text": [
            "BR        Brasilia\n",
            "MX            CDMX\n",
            "AR    Buenos Aires\n",
            "Name: Capitales, dtype: object\n"
          ],
          "name": "stdout"
        }
      ]
    },
    {
      "cell_type": "code",
      "metadata": {
        "id": "H9nOjEXD2Wgq",
        "outputId": "634f0b55-f590-4c0d-bb4c-886814b0d7cd",
        "colab": {
          "base_uri": "https://localhost:8080/"
        }
      },
      "source": [
        "print(world_df[[\"Capitales\"]])"
      ],
      "execution_count": 94,
      "outputs": [
        {
          "output_type": "stream",
          "text": [
            "       Capitales\n",
            "BR      Brasilia\n",
            "MX          CDMX\n",
            "AR  Buenos Aires\n"
          ],
          "name": "stdout"
        }
      ]
    },
    {
      "cell_type": "code",
      "metadata": {
        "id": "1vvr4c2M2d2e",
        "outputId": "edc7786e-b627-417c-fb02-84b36d9680ed",
        "colab": {
          "base_uri": "https://localhost:8080/"
        }
      },
      "source": [
        "print (world_df[1:3])"
      ],
      "execution_count": 95,
      "outputs": [
        {
          "output_type": "stream",
          "text": [
            "       Paises     Capitales  Población\n",
            "MX     México          CDMX      11.90\n",
            "AR  Argentina  Buenos Aires      21.09\n"
          ],
          "name": "stdout"
        }
      ]
    },
    {
      "cell_type": "code",
      "metadata": {
        "id": "YUDyN0sg2lk_",
        "outputId": "9aa8c510-a358-45d4-9184-d95100aa48a2",
        "colab": {
          "base_uri": "https://localhost:8080/"
        }
      },
      "source": [
        "print(world_df.loc[[\"BR\",\"AR\"]])"
      ],
      "execution_count": 96,
      "outputs": [
        {
          "output_type": "stream",
          "text": [
            "       Paises     Capitales  Población\n",
            "BR     Brasil      Brasilia      14.00\n",
            "AR  Argentina  Buenos Aires      21.09\n"
          ],
          "name": "stdout"
        }
      ]
    },
    {
      "cell_type": "code",
      "metadata": {
        "id": "QKMsnizQ2yQZ",
        "outputId": "6298d17d-11c1-48b9-e3bb-51eab19c449c",
        "colab": {
          "base_uri": "https://localhost:8080/"
        }
      },
      "source": [
        "print(world_df.loc[[\"BR\",\"AR\"],[\"Paises\",\"Capitales\"]])"
      ],
      "execution_count": 98,
      "outputs": [
        {
          "output_type": "stream",
          "text": [
            "       Paises     Capitales\n",
            "BR     Brasil      Brasilia\n",
            "AR  Argentina  Buenos Aires\n"
          ],
          "name": "stdout"
        }
      ]
    },
    {
      "cell_type": "code",
      "metadata": {
        "id": "9nrBOrlK3CD1",
        "outputId": "f45b7c77-6f46-4998-a4d9-f3d0021c8808",
        "colab": {
          "base_uri": "https://localhost:8080/"
        }
      },
      "source": [
        "print(world_df.iloc[[0,2],[1,2]])"
      ],
      "execution_count": 100,
      "outputs": [
        {
          "output_type": "stream",
          "text": [
            "       Capitales  Población\n",
            "BR      Brasilia      14.00\n",
            "AR  Buenos Aires      21.09\n"
          ],
          "name": "stdout"
        }
      ]
    },
    {
      "cell_type": "code",
      "metadata": {
        "id": "uxL9SLqq3Vnm",
        "outputId": "4bfde037-b06b-42b6-fd5e-b3f8eb3e92f9",
        "colab": {
          "base_uri": "https://localhost:8080/"
        }
      },
      "source": [
        "print(world_df[world_df[\"Población\"]>13])"
      ],
      "execution_count": 102,
      "outputs": [
        {
          "output_type": "stream",
          "text": [
            "       Paises     Capitales  Población\n",
            "BR     Brasil      Brasilia      14.00\n",
            "AR  Argentina  Buenos Aires      21.09\n"
          ],
          "name": "stdout"
        }
      ]
    },
    {
      "cell_type": "code",
      "metadata": {
        "id": "XQKjbdsF3iN4",
        "outputId": "e4b65a66-5c03-4ab6-f615-eeaa1ab979ba",
        "colab": {
          "base_uri": "https://localhost:8080/"
        }
      },
      "source": [
        "for i,x in world_df.iterrows():\n",
        "  print(i+\": \"+x.Capitales)"
      ],
      "execution_count": 103,
      "outputs": [
        {
          "output_type": "stream",
          "text": [
            "BR: Brasilia\n",
            "MX: CDMX\n",
            "AR: Buenos Aires\n"
          ],
          "name": "stdout"
        }
      ]
    },
    {
      "cell_type": "code",
      "metadata": {
        "id": "H7ndl5g93sd4"
      },
      "source": [
        "fifa_df=pd.read_csv(\"fifa_data_clase3.csv\")"
      ],
      "execution_count": 104,
      "outputs": []
    },
    {
      "cell_type": "code",
      "metadata": {
        "id": "ZUQLweZT4k1J",
        "outputId": "1c7877b5-3c9b-4502-daa8-d790eb89ebfa",
        "colab": {
          "base_uri": "https://localhost:8080/",
          "height": 389
        }
      },
      "source": [
        "fifa_df.head(5)"
      ],
      "execution_count": 105,
      "outputs": [
        {
          "output_type": "execute_result",
          "data": {
            "text/html": [
              "<div>\n",
              "<style scoped>\n",
              "    .dataframe tbody tr th:only-of-type {\n",
              "        vertical-align: middle;\n",
              "    }\n",
              "\n",
              "    .dataframe tbody tr th {\n",
              "        vertical-align: top;\n",
              "    }\n",
              "\n",
              "    .dataframe thead th {\n",
              "        text-align: right;\n",
              "    }\n",
              "</style>\n",
              "<table border=\"1\" class=\"dataframe\">\n",
              "  <thead>\n",
              "    <tr style=\"text-align: right;\">\n",
              "      <th></th>\n",
              "      <th>Unnamed: 0</th>\n",
              "      <th>ID</th>\n",
              "      <th>Name</th>\n",
              "      <th>Age</th>\n",
              "      <th>Photo</th>\n",
              "      <th>Nationality</th>\n",
              "      <th>Flag</th>\n",
              "      <th>Overall</th>\n",
              "      <th>Potential</th>\n",
              "      <th>Club</th>\n",
              "      <th>Club Logo</th>\n",
              "      <th>Value</th>\n",
              "      <th>Wage</th>\n",
              "      <th>Special</th>\n",
              "      <th>Preferred Foot</th>\n",
              "      <th>International Reputation</th>\n",
              "      <th>Weak Foot</th>\n",
              "      <th>Skill Moves</th>\n",
              "      <th>Work Rate</th>\n",
              "      <th>Body Type</th>\n",
              "      <th>Real Face</th>\n",
              "      <th>Position</th>\n",
              "      <th>Jersey Number</th>\n",
              "      <th>Joined</th>\n",
              "      <th>Loaned From</th>\n",
              "      <th>Contract Valid Until</th>\n",
              "      <th>Height</th>\n",
              "      <th>Weight</th>\n",
              "      <th>LS</th>\n",
              "      <th>ST</th>\n",
              "      <th>RS</th>\n",
              "      <th>LW</th>\n",
              "      <th>LF</th>\n",
              "      <th>CF</th>\n",
              "      <th>RF</th>\n",
              "      <th>RW</th>\n",
              "      <th>LAM</th>\n",
              "      <th>CAM</th>\n",
              "      <th>RAM</th>\n",
              "      <th>LM</th>\n",
              "      <th>...</th>\n",
              "      <th>LB</th>\n",
              "      <th>LCB</th>\n",
              "      <th>CB</th>\n",
              "      <th>RCB</th>\n",
              "      <th>RB</th>\n",
              "      <th>Crossing</th>\n",
              "      <th>Finishing</th>\n",
              "      <th>HeadingAccuracy</th>\n",
              "      <th>ShortPassing</th>\n",
              "      <th>Volleys</th>\n",
              "      <th>Dribbling</th>\n",
              "      <th>Curve</th>\n",
              "      <th>FKAccuracy</th>\n",
              "      <th>LongPassing</th>\n",
              "      <th>BallControl</th>\n",
              "      <th>Acceleration</th>\n",
              "      <th>SprintSpeed</th>\n",
              "      <th>Agility</th>\n",
              "      <th>Reactions</th>\n",
              "      <th>Balance</th>\n",
              "      <th>ShotPower</th>\n",
              "      <th>Jumping</th>\n",
              "      <th>Stamina</th>\n",
              "      <th>Strength</th>\n",
              "      <th>LongShots</th>\n",
              "      <th>Aggression</th>\n",
              "      <th>Interceptions</th>\n",
              "      <th>Positioning</th>\n",
              "      <th>Vision</th>\n",
              "      <th>Penalties</th>\n",
              "      <th>Composure</th>\n",
              "      <th>Marking</th>\n",
              "      <th>StandingTackle</th>\n",
              "      <th>SlidingTackle</th>\n",
              "      <th>GKDiving</th>\n",
              "      <th>GKHandling</th>\n",
              "      <th>GKKicking</th>\n",
              "      <th>GKPositioning</th>\n",
              "      <th>GKReflexes</th>\n",
              "      <th>Release Clause</th>\n",
              "    </tr>\n",
              "  </thead>\n",
              "  <tbody>\n",
              "    <tr>\n",
              "      <th>0</th>\n",
              "      <td>0</td>\n",
              "      <td>158023</td>\n",
              "      <td>L. Messi</td>\n",
              "      <td>31</td>\n",
              "      <td>https://cdn.sofifa.org/players/4/19/158023.png</td>\n",
              "      <td>Argentina</td>\n",
              "      <td>https://cdn.sofifa.org/flags/52.png</td>\n",
              "      <td>94</td>\n",
              "      <td>94</td>\n",
              "      <td>FC Barcelona</td>\n",
              "      <td>https://cdn.sofifa.org/teams/2/light/241.png</td>\n",
              "      <td>€110.5M</td>\n",
              "      <td>€565K</td>\n",
              "      <td>2202</td>\n",
              "      <td>Left</td>\n",
              "      <td>5.0</td>\n",
              "      <td>4.0</td>\n",
              "      <td>4.0</td>\n",
              "      <td>Medium/ Medium</td>\n",
              "      <td>Messi</td>\n",
              "      <td>Yes</td>\n",
              "      <td>RF</td>\n",
              "      <td>10.0</td>\n",
              "      <td>Jul 1, 2004</td>\n",
              "      <td>NaN</td>\n",
              "      <td>2021</td>\n",
              "      <td>5'7</td>\n",
              "      <td>159lbs</td>\n",
              "      <td>88+2</td>\n",
              "      <td>88+2</td>\n",
              "      <td>88+2</td>\n",
              "      <td>92+2</td>\n",
              "      <td>93+2</td>\n",
              "      <td>93+2</td>\n",
              "      <td>93+2</td>\n",
              "      <td>92+2</td>\n",
              "      <td>93+2</td>\n",
              "      <td>93+2</td>\n",
              "      <td>93+2</td>\n",
              "      <td>91+2</td>\n",
              "      <td>...</td>\n",
              "      <td>59+2</td>\n",
              "      <td>47+2</td>\n",
              "      <td>47+2</td>\n",
              "      <td>47+2</td>\n",
              "      <td>59+2</td>\n",
              "      <td>84.0</td>\n",
              "      <td>95.0</td>\n",
              "      <td>70.0</td>\n",
              "      <td>90.0</td>\n",
              "      <td>86.0</td>\n",
              "      <td>97.0</td>\n",
              "      <td>93.0</td>\n",
              "      <td>94.0</td>\n",
              "      <td>87.0</td>\n",
              "      <td>96.0</td>\n",
              "      <td>91.0</td>\n",
              "      <td>86.0</td>\n",
              "      <td>91.0</td>\n",
              "      <td>95.0</td>\n",
              "      <td>95.0</td>\n",
              "      <td>85.0</td>\n",
              "      <td>68.0</td>\n",
              "      <td>72.0</td>\n",
              "      <td>59.0</td>\n",
              "      <td>94.0</td>\n",
              "      <td>48.0</td>\n",
              "      <td>22.0</td>\n",
              "      <td>94.0</td>\n",
              "      <td>94.0</td>\n",
              "      <td>75.0</td>\n",
              "      <td>96.0</td>\n",
              "      <td>33.0</td>\n",
              "      <td>28.0</td>\n",
              "      <td>26.0</td>\n",
              "      <td>6.0</td>\n",
              "      <td>11.0</td>\n",
              "      <td>15.0</td>\n",
              "      <td>14.0</td>\n",
              "      <td>8.0</td>\n",
              "      <td>€226.5M</td>\n",
              "    </tr>\n",
              "    <tr>\n",
              "      <th>1</th>\n",
              "      <td>1</td>\n",
              "      <td>20801</td>\n",
              "      <td>Cristiano Ronaldo</td>\n",
              "      <td>33</td>\n",
              "      <td>https://cdn.sofifa.org/players/4/19/20801.png</td>\n",
              "      <td>Portugal</td>\n",
              "      <td>https://cdn.sofifa.org/flags/38.png</td>\n",
              "      <td>94</td>\n",
              "      <td>94</td>\n",
              "      <td>Juventus</td>\n",
              "      <td>https://cdn.sofifa.org/teams/2/light/45.png</td>\n",
              "      <td>€77M</td>\n",
              "      <td>€405K</td>\n",
              "      <td>2228</td>\n",
              "      <td>Right</td>\n",
              "      <td>5.0</td>\n",
              "      <td>4.0</td>\n",
              "      <td>5.0</td>\n",
              "      <td>High/ Low</td>\n",
              "      <td>C. Ronaldo</td>\n",
              "      <td>Yes</td>\n",
              "      <td>ST</td>\n",
              "      <td>7.0</td>\n",
              "      <td>Jul 10, 2018</td>\n",
              "      <td>NaN</td>\n",
              "      <td>2022</td>\n",
              "      <td>6'2</td>\n",
              "      <td>183lbs</td>\n",
              "      <td>91+3</td>\n",
              "      <td>91+3</td>\n",
              "      <td>91+3</td>\n",
              "      <td>89+3</td>\n",
              "      <td>90+3</td>\n",
              "      <td>90+3</td>\n",
              "      <td>90+3</td>\n",
              "      <td>89+3</td>\n",
              "      <td>88+3</td>\n",
              "      <td>88+3</td>\n",
              "      <td>88+3</td>\n",
              "      <td>88+3</td>\n",
              "      <td>...</td>\n",
              "      <td>61+3</td>\n",
              "      <td>53+3</td>\n",
              "      <td>53+3</td>\n",
              "      <td>53+3</td>\n",
              "      <td>61+3</td>\n",
              "      <td>84.0</td>\n",
              "      <td>94.0</td>\n",
              "      <td>89.0</td>\n",
              "      <td>81.0</td>\n",
              "      <td>87.0</td>\n",
              "      <td>88.0</td>\n",
              "      <td>81.0</td>\n",
              "      <td>76.0</td>\n",
              "      <td>77.0</td>\n",
              "      <td>94.0</td>\n",
              "      <td>89.0</td>\n",
              "      <td>91.0</td>\n",
              "      <td>87.0</td>\n",
              "      <td>96.0</td>\n",
              "      <td>70.0</td>\n",
              "      <td>95.0</td>\n",
              "      <td>95.0</td>\n",
              "      <td>88.0</td>\n",
              "      <td>79.0</td>\n",
              "      <td>93.0</td>\n",
              "      <td>63.0</td>\n",
              "      <td>29.0</td>\n",
              "      <td>95.0</td>\n",
              "      <td>82.0</td>\n",
              "      <td>85.0</td>\n",
              "      <td>95.0</td>\n",
              "      <td>28.0</td>\n",
              "      <td>31.0</td>\n",
              "      <td>23.0</td>\n",
              "      <td>7.0</td>\n",
              "      <td>11.0</td>\n",
              "      <td>15.0</td>\n",
              "      <td>14.0</td>\n",
              "      <td>11.0</td>\n",
              "      <td>€127.1M</td>\n",
              "    </tr>\n",
              "    <tr>\n",
              "      <th>2</th>\n",
              "      <td>2</td>\n",
              "      <td>190871</td>\n",
              "      <td>Neymar Jr</td>\n",
              "      <td>26</td>\n",
              "      <td>https://cdn.sofifa.org/players/4/19/190871.png</td>\n",
              "      <td>Brazil</td>\n",
              "      <td>https://cdn.sofifa.org/flags/54.png</td>\n",
              "      <td>92</td>\n",
              "      <td>93</td>\n",
              "      <td>Paris Saint-Germain</td>\n",
              "      <td>https://cdn.sofifa.org/teams/2/light/73.png</td>\n",
              "      <td>€118.5M</td>\n",
              "      <td>€290K</td>\n",
              "      <td>2143</td>\n",
              "      <td>Right</td>\n",
              "      <td>5.0</td>\n",
              "      <td>5.0</td>\n",
              "      <td>5.0</td>\n",
              "      <td>High/ Medium</td>\n",
              "      <td>Neymar</td>\n",
              "      <td>Yes</td>\n",
              "      <td>LW</td>\n",
              "      <td>10.0</td>\n",
              "      <td>Aug 3, 2017</td>\n",
              "      <td>NaN</td>\n",
              "      <td>2022</td>\n",
              "      <td>5'9</td>\n",
              "      <td>150lbs</td>\n",
              "      <td>84+3</td>\n",
              "      <td>84+3</td>\n",
              "      <td>84+3</td>\n",
              "      <td>89+3</td>\n",
              "      <td>89+3</td>\n",
              "      <td>89+3</td>\n",
              "      <td>89+3</td>\n",
              "      <td>89+3</td>\n",
              "      <td>89+3</td>\n",
              "      <td>89+3</td>\n",
              "      <td>89+3</td>\n",
              "      <td>88+3</td>\n",
              "      <td>...</td>\n",
              "      <td>60+3</td>\n",
              "      <td>47+3</td>\n",
              "      <td>47+3</td>\n",
              "      <td>47+3</td>\n",
              "      <td>60+3</td>\n",
              "      <td>79.0</td>\n",
              "      <td>87.0</td>\n",
              "      <td>62.0</td>\n",
              "      <td>84.0</td>\n",
              "      <td>84.0</td>\n",
              "      <td>96.0</td>\n",
              "      <td>88.0</td>\n",
              "      <td>87.0</td>\n",
              "      <td>78.0</td>\n",
              "      <td>95.0</td>\n",
              "      <td>94.0</td>\n",
              "      <td>90.0</td>\n",
              "      <td>96.0</td>\n",
              "      <td>94.0</td>\n",
              "      <td>84.0</td>\n",
              "      <td>80.0</td>\n",
              "      <td>61.0</td>\n",
              "      <td>81.0</td>\n",
              "      <td>49.0</td>\n",
              "      <td>82.0</td>\n",
              "      <td>56.0</td>\n",
              "      <td>36.0</td>\n",
              "      <td>89.0</td>\n",
              "      <td>87.0</td>\n",
              "      <td>81.0</td>\n",
              "      <td>94.0</td>\n",
              "      <td>27.0</td>\n",
              "      <td>24.0</td>\n",
              "      <td>33.0</td>\n",
              "      <td>9.0</td>\n",
              "      <td>9.0</td>\n",
              "      <td>15.0</td>\n",
              "      <td>15.0</td>\n",
              "      <td>11.0</td>\n",
              "      <td>€228.1M</td>\n",
              "    </tr>\n",
              "    <tr>\n",
              "      <th>3</th>\n",
              "      <td>3</td>\n",
              "      <td>193080</td>\n",
              "      <td>De Gea</td>\n",
              "      <td>27</td>\n",
              "      <td>https://cdn.sofifa.org/players/4/19/193080.png</td>\n",
              "      <td>Spain</td>\n",
              "      <td>https://cdn.sofifa.org/flags/45.png</td>\n",
              "      <td>91</td>\n",
              "      <td>93</td>\n",
              "      <td>Manchester United</td>\n",
              "      <td>https://cdn.sofifa.org/teams/2/light/11.png</td>\n",
              "      <td>€72M</td>\n",
              "      <td>€260K</td>\n",
              "      <td>1471</td>\n",
              "      <td>Right</td>\n",
              "      <td>4.0</td>\n",
              "      <td>3.0</td>\n",
              "      <td>1.0</td>\n",
              "      <td>Medium/ Medium</td>\n",
              "      <td>Lean</td>\n",
              "      <td>Yes</td>\n",
              "      <td>GK</td>\n",
              "      <td>1.0</td>\n",
              "      <td>Jul 1, 2011</td>\n",
              "      <td>NaN</td>\n",
              "      <td>2020</td>\n",
              "      <td>6'4</td>\n",
              "      <td>168lbs</td>\n",
              "      <td>NaN</td>\n",
              "      <td>NaN</td>\n",
              "      <td>NaN</td>\n",
              "      <td>NaN</td>\n",
              "      <td>NaN</td>\n",
              "      <td>NaN</td>\n",
              "      <td>NaN</td>\n",
              "      <td>NaN</td>\n",
              "      <td>NaN</td>\n",
              "      <td>NaN</td>\n",
              "      <td>NaN</td>\n",
              "      <td>NaN</td>\n",
              "      <td>...</td>\n",
              "      <td>NaN</td>\n",
              "      <td>NaN</td>\n",
              "      <td>NaN</td>\n",
              "      <td>NaN</td>\n",
              "      <td>NaN</td>\n",
              "      <td>17.0</td>\n",
              "      <td>13.0</td>\n",
              "      <td>21.0</td>\n",
              "      <td>50.0</td>\n",
              "      <td>13.0</td>\n",
              "      <td>18.0</td>\n",
              "      <td>21.0</td>\n",
              "      <td>19.0</td>\n",
              "      <td>51.0</td>\n",
              "      <td>42.0</td>\n",
              "      <td>57.0</td>\n",
              "      <td>58.0</td>\n",
              "      <td>60.0</td>\n",
              "      <td>90.0</td>\n",
              "      <td>43.0</td>\n",
              "      <td>31.0</td>\n",
              "      <td>67.0</td>\n",
              "      <td>43.0</td>\n",
              "      <td>64.0</td>\n",
              "      <td>12.0</td>\n",
              "      <td>38.0</td>\n",
              "      <td>30.0</td>\n",
              "      <td>12.0</td>\n",
              "      <td>68.0</td>\n",
              "      <td>40.0</td>\n",
              "      <td>68.0</td>\n",
              "      <td>15.0</td>\n",
              "      <td>21.0</td>\n",
              "      <td>13.0</td>\n",
              "      <td>90.0</td>\n",
              "      <td>85.0</td>\n",
              "      <td>87.0</td>\n",
              "      <td>88.0</td>\n",
              "      <td>94.0</td>\n",
              "      <td>€138.6M</td>\n",
              "    </tr>\n",
              "    <tr>\n",
              "      <th>4</th>\n",
              "      <td>4</td>\n",
              "      <td>192985</td>\n",
              "      <td>K. De Bruyne</td>\n",
              "      <td>27</td>\n",
              "      <td>https://cdn.sofifa.org/players/4/19/192985.png</td>\n",
              "      <td>Belgium</td>\n",
              "      <td>https://cdn.sofifa.org/flags/7.png</td>\n",
              "      <td>91</td>\n",
              "      <td>92</td>\n",
              "      <td>Manchester City</td>\n",
              "      <td>https://cdn.sofifa.org/teams/2/light/10.png</td>\n",
              "      <td>€102M</td>\n",
              "      <td>€355K</td>\n",
              "      <td>2281</td>\n",
              "      <td>Right</td>\n",
              "      <td>4.0</td>\n",
              "      <td>5.0</td>\n",
              "      <td>4.0</td>\n",
              "      <td>High/ High</td>\n",
              "      <td>Normal</td>\n",
              "      <td>Yes</td>\n",
              "      <td>RCM</td>\n",
              "      <td>7.0</td>\n",
              "      <td>Aug 30, 2015</td>\n",
              "      <td>NaN</td>\n",
              "      <td>2023</td>\n",
              "      <td>5'11</td>\n",
              "      <td>154lbs</td>\n",
              "      <td>82+3</td>\n",
              "      <td>82+3</td>\n",
              "      <td>82+3</td>\n",
              "      <td>87+3</td>\n",
              "      <td>87+3</td>\n",
              "      <td>87+3</td>\n",
              "      <td>87+3</td>\n",
              "      <td>87+3</td>\n",
              "      <td>88+3</td>\n",
              "      <td>88+3</td>\n",
              "      <td>88+3</td>\n",
              "      <td>88+3</td>\n",
              "      <td>...</td>\n",
              "      <td>73+3</td>\n",
              "      <td>66+3</td>\n",
              "      <td>66+3</td>\n",
              "      <td>66+3</td>\n",
              "      <td>73+3</td>\n",
              "      <td>93.0</td>\n",
              "      <td>82.0</td>\n",
              "      <td>55.0</td>\n",
              "      <td>92.0</td>\n",
              "      <td>82.0</td>\n",
              "      <td>86.0</td>\n",
              "      <td>85.0</td>\n",
              "      <td>83.0</td>\n",
              "      <td>91.0</td>\n",
              "      <td>91.0</td>\n",
              "      <td>78.0</td>\n",
              "      <td>76.0</td>\n",
              "      <td>79.0</td>\n",
              "      <td>91.0</td>\n",
              "      <td>77.0</td>\n",
              "      <td>91.0</td>\n",
              "      <td>63.0</td>\n",
              "      <td>90.0</td>\n",
              "      <td>75.0</td>\n",
              "      <td>91.0</td>\n",
              "      <td>76.0</td>\n",
              "      <td>61.0</td>\n",
              "      <td>87.0</td>\n",
              "      <td>94.0</td>\n",
              "      <td>79.0</td>\n",
              "      <td>88.0</td>\n",
              "      <td>68.0</td>\n",
              "      <td>58.0</td>\n",
              "      <td>51.0</td>\n",
              "      <td>15.0</td>\n",
              "      <td>13.0</td>\n",
              "      <td>5.0</td>\n",
              "      <td>10.0</td>\n",
              "      <td>13.0</td>\n",
              "      <td>€196.4M</td>\n",
              "    </tr>\n",
              "  </tbody>\n",
              "</table>\n",
              "<p>5 rows × 89 columns</p>\n",
              "</div>"
            ],
            "text/plain": [
              "   Unnamed: 0      ID  ... GKReflexes  Release Clause\n",
              "0           0  158023  ...        8.0         €226.5M\n",
              "1           1   20801  ...       11.0         €127.1M\n",
              "2           2  190871  ...       11.0         €228.1M\n",
              "3           3  193080  ...       94.0         €138.6M\n",
              "4           4  192985  ...       13.0         €196.4M\n",
              "\n",
              "[5 rows x 89 columns]"
            ]
          },
          "metadata": {
            "tags": []
          },
          "execution_count": 105
        }
      ]
    },
    {
      "cell_type": "code",
      "metadata": {
        "id": "FX6aNcPo4nwa",
        "outputId": "4b700fa1-c2ab-48c8-c19d-3722658fc59b",
        "colab": {
          "base_uri": "https://localhost:8080/",
          "height": 350
        }
      },
      "source": [
        "import matplotlib.pyplot as plt\n",
        "\n",
        "bins2 = [40,50,60,70,80,90,100]\n",
        "plt.figure(figsize=(8,5))\n",
        "plt.hist(fifa_df.Overall,bins=bins2,color=\"#eb4034\")\n",
        "plt.ylabel(\"Número de jugadores\")\n",
        "plt.xlabel(\"Nivel de habilidad\")\n",
        "plt.title(\"Distribucion de habilidades de jugadores en FIFA 2018\")\n",
        "plt.show()"
      ],
      "execution_count": 111,
      "outputs": [
        {
          "output_type": "display_data",
          "data": {
            "image/png": "[encoded data removed]",
            "text/plain": [
              "<Figure size 576x360 with 1 Axes>"
            ]
          },
          "metadata": {
            "tags": [],
            "needs_background": "light"
          }
        }
      ]
    },
    {
      "cell_type": "code",
      "metadata": {
        "id": "nuusgijz58Q1",
        "outputId": "67b8d2db-ce31-489c-9d4e-89c6c24bfe79",
        "colab": {
          "base_uri": "https://localhost:8080/"
        }
      },
      "source": [
        "fifa_df.loc[fifa_df[\"Preferred Foot\"]==\"Left\"].count()[0]"
      ],
      "execution_count": 113,
      "outputs": [
        {
          "output_type": "execute_result",
          "data": {
            "text/plain": [
              "4211"
            ]
          },
          "metadata": {
            "tags": []
          },
          "execution_count": 113
        }
      ]
    },
    {
      "cell_type": "code",
      "metadata": {
        "id": "5ei6TIeO6j-8",
        "outputId": "3b9a9289-8b05-4075-d304-6699e654751f",
        "colab": {
          "base_uri": "https://localhost:8080/",
          "height": 336
        }
      },
      "source": [
        "left= fifa_df.loc[fifa_df[\"Preferred Foot\"]==\"Left\"].count()[0]\n",
        "right = fifa_df.loc[fifa_df[\"Preferred Foot\"]==\"Right\"].count()[0]\n",
        "plt.figure(figsize=(8,5))\n",
        "labels=[\"Left\",\"Right\"]\n",
        "colors=[\"#ed4034\",\"#1e1a75\"]\n",
        "plt.pie([left,right],labels=labels,colors=colors)\n",
        "plt.title (\"Preferencia de tiro de jugadores de FIFA 2018\")"
      ],
      "execution_count": 121,
      "outputs": [
        {
          "output_type": "execute_result",
          "data": {
            "text/plain": [
              "Text(0.5, 1.0, 'Preferencia de tiro de jugadores de FIFA 2018')"
            ]
          },
          "metadata": {
            "tags": []
          },
          "execution_count": 121
        },
        {
          "output_type": "display_data",
          "data": {
            "image/png": "[encoded data removed]",
            "text/plain": [
              "<Figure size 576x360 with 1 Axes>"
            ]
          },
          "metadata": {
            "tags": []
          }
        }
      ]
    },
    {
      "cell_type": "code",
      "metadata": {
        "id": "xYjsWQJ77dgG"
      },
      "source": [
        ""
      ],
      "execution_count": null,
      "outputs": []
    }
  ]
}